{
 "cells": [
  {
   "cell_type": "markdown",
   "id": "08869d88",
   "metadata": {},
   "source": [
    "# Downloading GCM data through Python\n",
    "\n",
    "Use esgf-pyclient"
   ]
  },
  {
   "cell_type": "markdown",
   "id": "5d2cb767-850b-4f7b-b89a-944f010acc3f",
   "metadata": {},
   "source": [
    "## 1. Construct ESGF Search Query:"
   ]
  },
  {
   "cell_type": "code",
   "execution_count": 1,
   "id": "20c58403-07f9-44af-9c47-5d196ff5070f",
   "metadata": {},
   "outputs": [],
   "source": [
    "# Run in terminal\n",
    "# pip install esgf-pyclient\n",
    "# pip install wget"
   ]
  },
  {
   "cell_type": "code",
   "execution_count": 2,
   "id": "b4849175-dc48-4bbc-b86f-e6e7862a0f19",
   "metadata": {},
   "outputs": [],
   "source": [
    "import os\n",
    "os.environ['ESGF_PYCLIENT_NO_FACETS_STAR_WARNING'] = '1'"
   ]
  },
  {
   "cell_type": "code",
   "execution_count": 3,
   "id": "78ed1448-ea59-4998-9e2a-e91c1186359a",
   "metadata": {},
   "outputs": [
    {
     "name": "stdout",
     "output_type": "stream",
     "text": [
      "Current working directory: /home/zeus/Documents/UNIZAR/Projects/2025/ERA5_Record_Algorithm/Code/1-Data_Retrieval/1-3_GCMs\n"
     ]
    }
   ],
   "source": [
    "print(\"Current working directory:\", os.getcwd())"
   ]
  },
  {
   "cell_type": "code",
   "execution_count": 4,
   "id": "94f7428a-ecea-4b18-8875-c13852f60523",
   "metadata": {},
   "outputs": [],
   "source": [
    "from pathlib import Path\n",
    "\n",
    "# === CONFIGURATION ===\n",
    "download_folder = \"cmip6_ta\"\n",
    "url_list_file = Path(download_folder) / \"cmip6_ta_1960_urls.txt\"\n",
    "# Define years of interest\n",
    "target_years = ['1960']"
   ]
  },
  {
   "cell_type": "code",
   "execution_count": 5,
   "id": "04c66129-a4de-4505-9de1-468b84691eec",
   "metadata": {},
   "outputs": [],
   "source": [
    "# === STEP 1: Make download folder if not exists ===\n",
    "Path(download_folder).mkdir(parents=True, exist_ok=True)"
   ]
  },
  {
   "cell_type": "code",
   "execution_count": 6,
   "id": "d7b95148-a580-48ca-bda3-513d24755115",
   "metadata": {},
   "outputs": [],
   "source": [
    "# === STEP 2: Connect to ESGF and search dataset ===\n",
    "from pyesgf.search import SearchConnection\n",
    "\n",
    "# 2.1. Connect to an ESGF node\n",
    "conn = SearchConnection('https://esgf-node.llnl.gov/esg-search', distrib=True)\n",
    "\n",
    "# 2.2. Create a search context with specific constraints\n",
    "ctx = conn.new_context(\n",
    "    project='CMIP6',\n",
    "    source_id='EC-Earth3-AerChem',\n",
    "    experiment_id='historical',\n",
    "    variable_id='ta',\n",
    "    frequency='day',\n",
    "    table_id='day',\n",
    "    member_id='r1i1p1f1',\n",
    "    latest=True,\n",
    "    facets='project,experiment_id,source_id,variable_id,table_id,member_id'\n",
    ")\n",
    "\n",
    "# 2.3. Execute the search\n",
    "results = ctx.search()"
   ]
  },
  {
   "cell_type": "code",
   "execution_count": 7,
   "id": "98d2637a-8ff9-43a6-8fa2-b3d9be693cfc",
   "metadata": {},
   "outputs": [
    {
     "name": "stdout",
     "output_type": "stream",
     "text": [
      "Found 5 datasets.\n",
      "\n",
      "Dataset IDs:\n",
      "CMIP6.CMIP.EC-Earth-Consortium.EC-Earth3-AerChem.historical.r1i1p1f1.day.ta.gr.v20200624|esgf-data1.llnl.gov\n",
      "CMIP6.CMIP.EC-Earth-Consortium.EC-Earth3-AerChem.historical.r1i1p1f1.day.ta.gr.v20200624|esgf-data04.diasjp.net\n",
      "CMIP6.CMIP.EC-Earth-Consortium.EC-Earth3-AerChem.historical.r1i1p1f1.day.ta.gr.v20200624|esgf.ceda.ac.uk\n",
      "CMIP6.CMIP.EC-Earth-Consortium.EC-Earth3-AerChem.historical.r1i1p1f1.day.ta.gr.v20200624|esg-dn2.nsc.liu.se\n",
      "CMIP6.CMIP.EC-Earth-Consortium.EC-Earth3-AerChem.historical.r1i1p1f1.day.ta.gr.v20200624|esgf.nci.org.au\n"
     ]
    }
   ],
   "source": [
    "# Print number of searchs\n",
    "print(f\"Found {len(results)} datasets.\")\n",
    "\n",
    "# If results are found, print their dataset IDs\n",
    "if len(results) > 0:\n",
    "    print(\"\\nDataset IDs:\")\n",
    "    for result in results:\n",
    "        print(result.dataset_id)"
   ]
  },
  {
   "cell_type": "code",
   "execution_count": 8,
   "id": "dcf377f1-f53c-48dc-ba7e-06a39426d073",
   "metadata": {},
   "outputs": [
    {
     "name": "stdout",
     "output_type": "stream",
     "text": [
      "Filtered to 1 unique datasets.\n",
      "\n",
      "Dataset IDs:\n",
      "CMIP6.CMIP.EC-Earth-Consortium.EC-Earth3-AerChem.historical.r1i1p1f1.day.ta.gr.v20200624|esgf-data1.llnl.gov\n"
     ]
    }
   ],
   "source": [
    "# Deduplicate the results (keep one replica per dataset)\n",
    "unique_datasets = {}\n",
    "for result in results:\n",
    "    base_id = result.dataset_id.split('|')[0]\n",
    "    if base_id not in unique_datasets:\n",
    "        unique_datasets[base_id] = result  # keep the first one\n",
    "\n",
    "# Replace original results with the deduplicated ones\n",
    "results = list(unique_datasets.values())\n",
    "\n",
    "# Now results only contains one replica per dataset\n",
    "print(f\"Filtered to {len(results)} unique datasets.\")\n",
    "\n",
    "# If results are found, print their dataset IDs\n",
    "if len(results) > 0:\n",
    "    print(\"\\nDataset IDs:\")\n",
    "    for result in results:\n",
    "        print(result.dataset_id)"
   ]
  },
  {
   "cell_type": "code",
   "execution_count": 11,
   "id": "002175db-c1eb-48fb-af05-15ce8a25ec90",
   "metadata": {},
   "outputs": [
    {
     "name": "stdout",
     "output_type": "stream",
     "text": [
      "\n",
      "Download step completed in 6.77 seconds.\n"
     ]
    }
   ],
   "source": [
    "import time\n",
    "\n",
    "# === Step 4: Extract matching file URLs ===\n",
    "\n",
    "start_time = time.time()  # Start timer\n",
    "\n",
    "download_urls = []\n",
    "\n",
    "for dataset in results:\n",
    "    files = dataset.file_context().search()\n",
    "    for f in files:\n",
    "        if any(year in f.filename for year in target_years):\n",
    "            download_urls.append(f.download_url)\n",
    "\n",
    "end_time = time.time()  # End timer\n",
    "elapsed = end_time - start_time\n",
    "\n",
    "print(f\"\\nDownload step completed in {elapsed:.2f} seconds.\")"
   ]
  },
  {
   "cell_type": "code",
   "execution_count": 12,
   "id": "985bef03-3ca9-41f1-890b-6be84f0d4f05",
   "metadata": {},
   "outputs": [
    {
     "name": "stdout",
     "output_type": "stream",
     "text": [
      "['https://esgf-data1.llnl.gov/thredds/fileServer/css03_data/CMIP6/CMIP/EC-Earth-Consortium/EC-Earth3-AerChem/historical/r1i1p1f1/day/ta/gr/v20200624/ta_day_EC-Earth3-AerChem_historical_r1i1p1f1_gr_19600101-19601231.nc']\n"
     ]
    }
   ],
   "source": [
    "# Show found URLs\n",
    "print(download_urls)"
   ]
  },
  {
   "cell_type": "code",
   "execution_count": 13,
   "id": "87d95bc5-24e7-416f-aa1c-bcb7eace98ce",
   "metadata": {},
   "outputs": [
    {
     "name": "stdout",
     "output_type": "stream",
     "text": [
      "\n",
      "Saved 1 URL(s) to cmip6_ta/cmip6_ta_1960_urls.txt\n"
     ]
    }
   ],
   "source": [
    "# === Step 5: Save URLs to file ===\n",
    "with open(url_list_file, \"w\") as f:\n",
    "    for url in download_urls:\n",
    "        f.write(url + \"\\n\")\n",
    "\n",
    "print(f\"\\nSaved {len(download_urls)} URL(s) to {url_list_file}\")"
   ]
  },
  {
   "cell_type": "code",
   "execution_count": 14,
   "id": "48db1b55-b387-4845-990f-213192f205f8",
   "metadata": {},
   "outputs": [
    {
     "name": "stdout",
     "output_type": "stream",
     "text": [
      "Downloading: https://esgf-data1.llnl.gov/thredds/fileServer/css03_data/CMIP6/CMIP/EC-Earth-Consortium/EC-Earth3-AerChem/historical/r1i1p1f1/day/ta/gr/v20200624/ta_day_EC-Earth3-AerChem_historical_r1i1p1f1_gr_19600101-19601231.nc\n",
      "\n",
      "Download step completed in 217.84 seconds.\n"
     ]
    }
   ],
   "source": [
    "# === Step 6: Download files with wget ===\n",
    "start_time = time.time()  # Start timer\n",
    "\n",
    "for url in download_urls:\n",
    "    print(f\"Downloading: {url}\")\n",
    "    os.system(f\"wget -q --no-check-certificate -c -P {download_folder} '{url}'\")\n",
    "\n",
    "end_time = time.time()  # End timer\n",
    "elapsed = end_time - start_time\n",
    "\n",
    "print(f\"\\nDownload step completed in {elapsed:.2f} seconds.\")\n"
   ]
  }
 ],
 "metadata": {
  "kernelspec": {
   "display_name": "Python 3 (ipykernel)",
   "language": "python",
   "name": "python3"
  },
  "language_info": {
   "codemirror_mode": {
    "name": "ipython",
    "version": 3
   },
   "file_extension": ".py",
   "mimetype": "text/x-python",
   "name": "python",
   "nbconvert_exporter": "python",
   "pygments_lexer": "ipython3",
   "version": "3.12.2"
  }
 },
 "nbformat": 4,
 "nbformat_minor": 5
}
