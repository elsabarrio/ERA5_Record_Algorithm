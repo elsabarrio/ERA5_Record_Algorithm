{
 "cells": [
  {
   "cell_type": "markdown",
   "id": "54376324",
   "metadata": {},
   "source": [
    "# Converting .nc data to .csv\n",
    "\n",
    "This file provides a way to convert .nc files to .csv format, and therefore make them easier to handle."
   ]
  },
  {
   "cell_type": "markdown",
   "id": "0b01f185",
   "metadata": {},
   "source": [
    "## Create function to convert .nc to .csv\n",
    "\n",
    "In the code cell below a funcion is created that converts an .nc file to a data frame and saves it as a .csv."
   ]
  },
  {
   "cell_type": "code",
   "execution_count": null,
   "id": "4b39507f",
   "metadata": {},
   "outputs": [],
   "source": [
    "# Function to convert nc file to DataFrame and save it\n",
    "def nc_to_csv(file_path, output_dir):\n",
    "    \n",
    "    # Load libraries\n",
    "    import netCDF4 as nc\n",
    "    import pandas as pd\n",
    "    import xarray as xr\n",
    "    import os\n",
    "    \n",
    "    # Load nc file\n",
    "    ds = xr.open_dataset(file_path)\n",
    "    \n",
    "    # Convert to data frame\n",
    "    df = ds.to_dataframe()\n",
    "    df = df.reset_index()\n",
    "    \n",
    "    # Convert time to date and time columns\n",
    "    date = df['time'].dt.strftime('%m/%d/%Y')\n",
    "    time =  df['time'].dt.strftime('%H:%M:%S')\n",
    "    \n",
    "    df['Date'] = date\n",
    "    df['Time'] = time\n",
    "    \n",
    "    # Ensure the output directory exists\n",
    "    if not os.path.exists(output_dir):\n",
    "        os.makedirs(output_dir)\n",
    "\n",
    "    # Create the full file path for the output CSV file\n",
    "    file_name = os.path.splitext(os.path.basename(file_path))[0] + '.csv'\n",
    "    output_file_path = os.path.join(output_dir, file_name)\n",
    "\n",
    "    # Save DataFrame to CSV\n",
    "    df.to_csv(output_file_path, index=True, header=True)"
   ]
  },
  {
   "cell_type": "markdown",
   "id": "9a8f2161",
   "metadata": {},
   "source": [
    "## Convert all .nc files to .csv\n",
    "\n",
    "The code cell below loops over the .nc files created in the file '1-Download_ERA5_data.ipynb', and converts them to .cvs and saves them in a new folder."
   ]
  },
  {
   "cell_type": "code",
   "execution_count": null,
   "id": "079b849f",
   "metadata": {},
   "outputs": [],
   "source": [
    "import os\n",
    "\n",
    "# Folder containing nc files\n",
    "folder_path = 'Data/Raw_nc/'\n",
    "\n",
    "# Output directory\n",
    "output_dir = 'Data/Raw_csv/'\n",
    "\n",
    "# Loop over each nc file in the folder\n",
    "for file_name in os.listdir(folder_path):\n",
    "    if file_name.endswith('.nc'):\n",
    "        file_path = os.path.join(folder_path, file_name)\n",
    "        nc_to_csv(file_path, output_dir)"
   ]
  },
  {
   "cell_type": "markdown",
   "id": "26632335",
   "metadata": {},
   "source": [
    "Once this file has been executed, go to the next file \"3-ERA5_dataset_refinement.R\" (R file) for refinement of the data frames. The next file then deletes the folders with the Raw data that have been created with this file."
   ]
  }
 ],
 "metadata": {
  "kernelspec": {
   "display_name": "Python 3 (ipykernel)",
   "language": "python",
   "name": "python3"
  },
  "language_info": {
   "codemirror_mode": {
    "name": "ipython",
    "version": 3
   },
   "file_extension": ".py",
   "mimetype": "text/x-python",
   "name": "python",
   "nbconvert_exporter": "python",
   "pygments_lexer": "ipython3",
   "version": "3.12.3"
  }
 },
 "nbformat": 4,
 "nbformat_minor": 5
}
