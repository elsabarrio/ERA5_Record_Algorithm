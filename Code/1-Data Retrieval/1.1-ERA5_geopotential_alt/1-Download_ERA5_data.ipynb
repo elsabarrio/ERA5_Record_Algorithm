{
 "cells": [
  {
   "cell_type": "markdown",
   "id": "08869d88",
   "metadata": {},
   "source": [
    "# Downloading ERA5 data from Python Jupyter Notebook\n",
    "\n",
    "To download ERA5 reanalysis data from the Copernicus Climate Data Store (CDS), the steps in https://github.com/joaohenry23/Download_ERA5_with_python?tab=readme-ov-file can be followed. The setup steps are not explained in this file, but can be followed from the link provided. \n",
    "\n",
    "This file contains the code to download ERA5 reanalysis data from the Copernicus portal."
   ]
  },
  {
   "cell_type": "markdown",
   "id": "33d001d1",
   "metadata": {},
   "source": [
    "## 1. Download ERA5 data\n",
    "\n",
    "In the code cell below ERA5 data is downloaded using the c.retrieve() function from the dcsapi library. Several parameters are defined, and can be adjusted to ones specific needs. In this example data for the $[45, -10, 35, 5]$ grid, which corresponds to the Iberian Peninsula, is downloaded. The grid resolution is set to $1 \\times 1$. Data for relative humidity, geopotential height, and temperature at pressure levels of 850hPa, 700 hPa, 500hPa, and 300hPa is retrieved. The year period is set from 1960 to 2023, for all days and all months. Please bear in mind that the code cell might take a long time to run (it took me more than 10 hours with my laptop)."
   ]
  },
  {
   "cell_type": "code",
   "execution_count": null,
   "id": "2f2ab869",
   "metadata": {
    "scrolled": true
   },
   "outputs": [],
   "source": [
    "import os\n",
    "import cdsapi\n",
    "\n",
    "c = cdsapi.Client()\n",
    "\n",
    "# Define variables and pressure levels to be retrieved\n",
    "variables = ['relative humidity','geopotential','temperature',] # Select variables \n",
    "pressure_levels = ['850','700','500','300',] # Select pressure levels\n",
    "\n",
    "# Define the output route\n",
    "output_dir = 'C:/Users/elsac/Documents/ERA5/Data/Raw.nc'\n",
    "\n",
    "# Create the folder if it does not exist\n",
    "if not os.path.exists(output_dir):\n",
    "    os.makedirs(output_dir)\n",
    "    \n",
    "for i in variables:\n",
    "    for j in pressure_levels:\n",
    "        output_file_path = os.path.join(output_dir, f'{i}_{j}.nc')\n",
    "        c.retrieve(\n",
    "            'reanalysis-era5-pressure-levels',\n",
    "            {\n",
    "                'product_type': 'reanalysis',\n",
    "                'variable': [i],\n",
    "                'pressure_level': [j],\n",
    "                'year': ['1960','1961','1962','1963','1964','1965','1966','1967','1968','1969','1970','1971','1972','1973','1974','1975','1976','1977','1978','1979','1980','1981','1982','1983','1984','1985','1986','1987','1988','1989','1990','1991','1992','1993','1994','1995','1996','1997','1998','1999','2000','2001','2002','2003','2004','2005','2006','2007','2008','2009','2010','2011','2012','2013','2014','2015','2016','2017','2018','2019','2020','2021','2022','2023',],\n",
    "                'month': ['01','02','03','04','05','06','07','08','09','10','11','12',],\n",
    "                'day': ['01','02','03','04','05','06','07','08','09','10','11','12','13','14','15','16','17','18','19','20','21','22','23','24','25','26','27','28','29','30','31',],\n",
    "                'time': '12:00',\n",
    "                'format': 'netcdf',                 # Supported format: grib and netcdf. Default: grib\n",
    "                'area'          : [45, -10, 35, 5], # North, West, South, East.          Default: global\n",
    "                'grid'          : [1.0, 1.0],       # Latitude/longitude grid.           Default: 0.25 x 0.25\n",
    "            },\n",
    "            output_file_path) "
   ]
  },
  {
   "cell_type": "markdown",
   "id": "327fdb2c",
   "metadata": {},
   "source": [
    "## Create function to convert .nc to .csv\n",
    "\n",
    "In the code cell below a funcion is created that converts the .nc file to a data frame and saves it as a .csv. This is convenient to handle the data in an easier format."
   ]
  },
  {
   "cell_type": "code",
   "execution_count": 1,
   "id": "06c03c1e",
   "metadata": {},
   "outputs": [],
   "source": [
    "# Function to convert nc file to DataFrame and save it\n",
    "def nc_to_csv(file_path, output_dir):\n",
    "    \n",
    "    # Load libraries\n",
    "    import netCDF4 as nc\n",
    "    import pandas as pd\n",
    "    import xarray as xr\n",
    "    import os\n",
    "    \n",
    "    # Load nc file\n",
    "    ds = xr.open_dataset(file_path)\n",
    "    \n",
    "    # Convert to data frame\n",
    "    df = ds.to_dataframe()\n",
    "    df = df.reset_index()\n",
    "    \n",
    "    # Convert time to date and time columns\n",
    "    date = df['time'].dt.strftime('%m/%d/%Y')\n",
    "    time =  df['time'].dt.strftime('%H:%M:%S')\n",
    "    \n",
    "    df['Date'] = date\n",
    "    df['Time'] = time\n",
    "    \n",
    "    # Ensure the output directory exists\n",
    "    if not os.path.exists(output_dir):\n",
    "        os.makedirs(output_dir)\n",
    "\n",
    "    # Create the full file path for the output CSV file\n",
    "    file_name = os.path.splitext(os.path.basename(file_path))[0] + '.csv'\n",
    "    output_file_path = os.path.join(output_dir, file_name)\n",
    "\n",
    "    # Save DataFrame to CSV\n",
    "    df.to_csv(output_file_path, index=True, header=True)"
   ]
  }
 ],
 "metadata": {
  "kernelspec": {
   "display_name": "Python 3 (ipykernel)",
   "language": "python",
   "name": "python3"
  },
  "language_info": {
   "codemirror_mode": {
    "name": "ipython",
    "version": 3
   },
   "file_extension": ".py",
   "mimetype": "text/x-python",
   "name": "python",
   "nbconvert_exporter": "python",
   "pygments_lexer": "ipython3",
   "version": "3.11.5"
  }
 },
 "nbformat": 4,
 "nbformat_minor": 5
}
